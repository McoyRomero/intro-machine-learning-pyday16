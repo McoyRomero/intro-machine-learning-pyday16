{
 "cells": [
  {
   "cell_type": "markdown",
   "metadata": {},
   "source": [
    "# Resources"
   ]
  },
  {
   "cell_type": "markdown",
   "metadata": {},
   "source": [
    "http://nb.bianp.net/sort/views/ Links to the best IPython and Jupyter Notebooks.\n",
    "\n",
    "## Datasets\n",
    "https://www.kaggle.com/ Competitions & Datasets\n",
    "\n",
    "http://archive.ics.uci.edu/ml/ UC Irvine Machine Learning Repository\n",
    "\n",
    "https://www.reddit.com/r/datasets \n",
    "\n",
    "https://cloud.google.com/bigquery/docs/resources#public-datasets special group of public datasets that Google BigQuery hosts for you to access and integrate into your applications\n",
    "\n",
    "https://github.com/caesar0301/awesome-public-datasets This list of public data sources are collected and tidied from blogs, answers, and user responses. \n",
    "\n",
    "http://academictorrents.com/ 15.66TB of research data available. \n",
    "\n",
    "https://tinyletter.com/data-is-plural Newsletter semanal con datasets\n",
    "\n",
    "\n",
    "## Dive into ML\n",
    "http://datasciencemasters.org/ The open-source curriculum for learning Data Science"
   ]
  },
  {
   "cell_type": "code",
   "execution_count": null,
   "metadata": {
    "collapsed": true
   },
   "outputs": [],
   "source": []
  }
 ],
 "metadata": {
  "anaconda-cloud": {},
  "kernelspec": {
   "display_name": "Python [default]",
   "language": "python",
   "name": "python3"
  },
  "language_info": {
   "codemirror_mode": {
    "name": "ipython",
    "version": 3
   },
   "file_extension": ".py",
   "mimetype": "text/x-python",
   "name": "python",
   "nbconvert_exporter": "python",
   "pygments_lexer": "ipython3",
   "version": "3.5.2"
  }
 },
 "nbformat": 4,
 "nbformat_minor": 1
}
